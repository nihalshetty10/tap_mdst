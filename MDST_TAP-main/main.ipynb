{
 "cells": [
  {
   "cell_type": "code",
   "execution_count": 1,
   "metadata": {},
   "outputs": [
    {
     "name": "stderr",
     "output_type": "stream",
     "text": [
      "Matplotlib is building the font cache; this may take a moment.\n"
     ]
    }
   ],
   "source": [
    "import pandas as pd\n",
    "import numpy as np\n",
    "import matplotlib.pyplot as plt\n",
    "import seaborn as sns\n",
    "from sklearn.model_selection import train_test_split\n",
    "from sklearn.metrics import classification_report, confusion_matrix, accuracy_score\n",
    "from scipy.io import loadmat\n",
    "import torch\n",
    "import torch.nn as nn\n",
    "import torch.optim as optim\n",
    "from torch.utils.data import DataLoader, Dataset"
   ]
  },
  {
   "cell_type": "code",
   "execution_count": 3,
   "metadata": {},
   "outputs": [
    {
     "name": "stdout",
     "output_type": "stream",
     "text": [
      "Loading US Accidents dataset...\n",
      "Sample size: 100369\n",
      "      ID   Source  Severity           Start_Time             End_Time  \\\n",
      "0   A-77  Source2         3  2016-02-10 07:50:08  2016-02-10 08:20:08   \n",
      "1  A-154  Source2         2  2016-02-15 08:00:58  2016-02-15 08:30:58   \n",
      "2  A-231  Source2         2  2016-02-17 12:57:34  2016-02-17 13:27:34   \n",
      "3  A-308  Source3         3  2016-02-22 07:24:22  2016-02-22 07:54:22   \n",
      "4  A-385  Source2         2  2016-02-24 11:25:37  2016-02-24 11:55:37   \n",
      "\n",
      "   Start_Lat  Start_Lng  End_Lat  End_Lng  Distance(mi)  ... Roundabout  \\\n",
      "0  39.954617 -82.844238      NaN      NaN          0.01  ...      False   \n",
      "1  39.945370 -82.887444      NaN      NaN          0.01  ...      False   \n",
      "2  39.615208 -84.227318      NaN      NaN          0.01  ...      False   \n",
      "3  39.933804 -82.789444      NaN      NaN          0.01  ...      False   \n",
      "4  39.753105 -84.151581      NaN      NaN          0.01  ...      False   \n",
      "\n",
      "  Station   Stop Traffic_Calming Traffic_Signal Turning_Loop Sunrise_Sunset  \\\n",
      "0   False  False           False          False        False            Day   \n",
      "1    True  False           False           True        False            Day   \n",
      "2   False  False           False           True        False            Day   \n",
      "3   False  False           False          False        False            Day   \n",
      "4   False  False           False          False        False            Day   \n",
      "\n",
      "  Civil_Twilight Nautical_Twilight Astronomical_Twilight  \n",
      "0            Day               Day                   Day  \n",
      "1            Day               Day                   Day  \n",
      "2            Day               Day                   Day  \n",
      "3            Day               Day                   Day  \n",
      "4            Day               Day                   Day  \n",
      "\n",
      "[5 rows x 46 columns]\n"
     ]
    }
   ],
   "source": [
    "print(\"Loading US Accidents dataset...\")\n",
    "# us_accidents = pd.read_csv('/data/US_Accidents_March23.csv')\n",
    "# print(\"US Accidents dataset loaded.\")\n",
    "# print(us_accidents.head())\n",
    "file_path = 'data/US_Accidents_March23.csv'\n",
    "\n",
    "step = 77\n",
    "\n",
    "# Use the skiprows parameter to load only the desired rows\n",
    "# Generate a list of rows to skip\n",
    "rows_to_skip = [i for i in range(1, 7728394) if i % step != 0]  # Skip all except every 77th row\n",
    "\n",
    "# Read the CSV with the selected rows\n",
    "us_accidents = pd.read_csv(file_path, skiprows=rows_to_skip)\n",
    "\n",
    "# Verify the size of the sample\n",
    "print(f\"Sample size: {len(us_accidents)}\")\n",
    "print(us_accidents.head())\n",
    "\n"
   ]
  },
  {
   "cell_type": "code",
   "execution_count": 4,
   "metadata": {},
   "outputs": [
    {
     "name": "stdout",
     "output_type": "stream",
     "text": [
      "Dataset Info:\n",
      "<class 'pandas.core.frame.DataFrame'>\n",
      "RangeIndex: 100369 entries, 0 to 100368\n",
      "Data columns (total 46 columns):\n",
      " #   Column                 Non-Null Count   Dtype  \n",
      "---  ------                 --------------   -----  \n",
      " 0   ID                     100369 non-null  object \n",
      " 1   Source                 100369 non-null  object \n",
      " 2   Severity               100369 non-null  int64  \n",
      " 3   Start_Time             100369 non-null  object \n",
      " 4   End_Time               100369 non-null  object \n",
      " 5   Start_Lat              100369 non-null  float64\n",
      " 6   Start_Lng              100369 non-null  float64\n",
      " 7   End_Lat                56178 non-null   float64\n",
      " 8   End_Lng                56178 non-null   float64\n",
      " 9   Distance(mi)           100369 non-null  float64\n",
      " 10  Description            100369 non-null  object \n",
      " 11  Street                 100230 non-null  object \n",
      " 12  City                   100365 non-null  object \n",
      " 13  County                 100369 non-null  object \n",
      " 14  State                  100369 non-null  object \n",
      " 15  Zipcode                100338 non-null  object \n",
      " 16  Country                100369 non-null  object \n",
      " 17  Timezone               100271 non-null  object \n",
      " 18  Airport_Code           100078 non-null  object \n",
      " 19  Weather_Timestamp      98766 non-null   object \n",
      " 20  Temperature(F)         98199 non-null   float64\n",
      " 21  Wind_Chill(F)          74427 non-null   float64\n",
      " 22  Humidity(%)            98085 non-null   float64\n",
      " 23  Pressure(in)           98491 non-null   float64\n",
      " 24  Visibility(mi)         98026 non-null   float64\n",
      " 25  Wind_Direction         98052 non-null   object \n",
      " 26  Wind_Speed(mph)        92958 non-null   float64\n",
      " 27  Precipitation(in)      71664 non-null   float64\n",
      " 28  Weather_Condition      98089 non-null   object \n",
      " 29  Amenity                100369 non-null  bool   \n",
      " 30  Bump                   100369 non-null  bool   \n",
      " 31  Crossing               100369 non-null  bool   \n",
      " 32  Give_Way               100369 non-null  bool   \n",
      " 33  Junction               100369 non-null  bool   \n",
      " 34  No_Exit                100369 non-null  bool   \n",
      " 35  Railway                100369 non-null  bool   \n",
      " 36  Roundabout             100369 non-null  bool   \n",
      " 37  Station                100369 non-null  bool   \n",
      " 38  Stop                   100369 non-null  bool   \n",
      " 39  Traffic_Calming        100369 non-null  bool   \n",
      " 40  Traffic_Signal         100369 non-null  bool   \n",
      " 41  Turning_Loop           100369 non-null  bool   \n",
      " 42  Sunrise_Sunset         100051 non-null  object \n",
      " 43  Civil_Twilight         100051 non-null  object \n",
      " 44  Nautical_Twilight      100051 non-null  object \n",
      " 45  Astronomical_Twilight  100051 non-null  object \n",
      "dtypes: bool(13), float64(12), int64(1), object(20)\n",
      "memory usage: 26.5+ MB\n",
      "Performing Exploratory Data Analysis...\n"
     ]
    },
    {
     "data": {
      "image/png": "[encoded data removed]",
      "text/plain": [
       "<Figure size 1000x600 with 1 Axes>"
      ]
     },
     "metadata": {},
     "output_type": "display_data"
    },
    {
     "data": {
      "image/png": "[encoded data removed]",
      "text/plain": [
       "<Figure size 1000x600 with 1 Axes>"
      ]
     },
     "metadata": {},
     "output_type": "display_data"
    }
   ],
   "source": [
    "print(\"Dataset Info:\")\n",
    "us_accidents.info()\n",
    "\n",
    "print(\"Performing Exploratory Data Analysis...\")\n",
    "plt.figure(figsize=(10, 6))\n",
    "sns.countplot(data=us_accidents, x='Severity', order=us_accidents['Severity'].value_counts().index)\n",
    "plt.title('Accident Severity Distribution')\n",
    "plt.xlabel('Severity')\n",
    "plt.ylabel('Count')\n",
    "plt.show()\n",
    "\n",
    "us_accidents['Start_Time'] = us_accidents['Start_Time'].str.split('.').str[0]\n",
    "us_accidents['Start_Time'] = pd.to_datetime(us_accidents['Start_Time'].str.split('.').str[0], errors='coerce')\n",
    "us_accidents['Year'] = us_accidents['Start_Time'].dt.year\n",
    "plt.figure(figsize=(10, 6))\n",
    "us_accidents['Year'].value_counts().sort_index().plot(kind='bar')\n",
    "plt.title('Accidents by Year')\n",
    "plt.xlabel('Year')\n",
    "plt.ylabel('Number of Accidents')\n",
    "plt.show()\n"
   ]
  },
  {
   "cell_type": "code",
   "execution_count": 5,
   "metadata": {},
   "outputs": [
    {
     "name": "stdout",
     "output_type": "stream",
     "text": [
      "Preprocessing the dataset...\n"
     ]
    }
   ],
   "source": [
    "print(\"Preprocessing the dataset...\")\n",
    "us_accidents = us_accidents.dropna(subset=['Severity', 'Start_Lat', 'Start_Lng', 'Distance(mi)'])\n",
    "X = us_accidents[['Start_Lat', 'Start_Lng', 'Distance(mi)']].values\n",
    "y = us_accidents['Severity'].values\n",
    "\n",
    "X_tensor = torch.tensor(X, dtype=torch.float32)\n",
    "y_tensor = torch.tensor(y - 1, dtype=torch.long)  # Shift labels from 1-4 to 0-3\n",
    "\n",
    "train_size = int(0.8 * len(X_tensor))\n",
    "test_size = len(X_tensor) - train_size\n",
    "train_dataset, test_dataset = torch.utils.data.random_split(list(zip(X_tensor, y_tensor)), [train_size, test_size])\n",
    "train_loader = DataLoader(train_dataset, batch_size=32, shuffle=True)\n",
    "test_loader = DataLoader(test_dataset, batch_size=32, shuffle=False)\n"
   ]
  },
  {
   "cell_type": "code",
   "execution_count": 7,
   "metadata": {},
   "outputs": [
    {
     "name": "stdout",
     "output_type": "stream",
     "text": [
      "Training the model...\n",
      "Epoch 1/5, Loss: 0.6570\n",
      "Epoch 2/5, Loss: 0.6115\n",
      "Epoch 3/5, Loss: 0.6030\n",
      "Epoch 4/5, Loss: 0.5960\n",
      "Epoch 5/5, Loss: 0.5873\n",
      "Evaluating the model...\n",
      "Accuracy: 0.7998904054996513\n",
      "Classification Report:\n",
      "              precision    recall  f1-score   support\n",
      "\n",
      "           0       0.00      0.00      0.00       173\n",
      "           1       0.80      1.00      0.89     16054\n",
      "           2       0.75      0.00      0.00      3317\n",
      "           3       0.00      0.00      0.00       530\n",
      "\n",
      "    accuracy                           0.80     20074\n",
      "   macro avg       0.39      0.25      0.22     20074\n",
      "weighted avg       0.76      0.80      0.71     20074\n",
      "\n"
     ]
    },
    {
     "name": "stderr",
     "output_type": "stream",
     "text": [
      "/Users/apple/Desktop/MDST_TAP/venv/lib/python3.12/site-packages/sklearn/metrics/_classification.py:1565: UndefinedMetricWarning: Precision is ill-defined and being set to 0.0 in labels with no predicted samples. Use `zero_division` parameter to control this behavior.\n",
      "  _warn_prf(average, modifier, f\"{metric.capitalize()} is\", len(result))\n",
      "/Users/apple/Desktop/MDST_TAP/venv/lib/python3.12/site-packages/sklearn/metrics/_classification.py:1565: UndefinedMetricWarning: Precision is ill-defined and being set to 0.0 in labels with no predicted samples. Use `zero_division` parameter to control this behavior.\n",
      "  _warn_prf(average, modifier, f\"{metric.capitalize()} is\", len(result))\n",
      "/Users/apple/Desktop/MDST_TAP/venv/lib/python3.12/site-packages/sklearn/metrics/_classification.py:1565: UndefinedMetricWarning: Precision is ill-defined and being set to 0.0 in labels with no predicted samples. Use `zero_division` parameter to control this behavior.\n",
      "  _warn_prf(average, modifier, f\"{metric.capitalize()} is\", len(result))\n"
     ]
    }
   ],
   "source": [
    "class AccidentSeverityModel(nn.Module):\n",
    "    def __init__(self):\n",
    "        super(AccidentSeverityModel, self).__init__()\n",
    "        self.fc1 = nn.Linear(3, 64)\n",
    "        self.fc2 = nn.Linear(64, 32)\n",
    "        self.fc3 = nn.Linear(32, 4)\n",
    "\n",
    "    def forward(self, x):\n",
    "        x = torch.relu(self.fc1(x))\n",
    "        x = torch.relu(self.fc2(x))\n",
    "        x = self.fc3(x)\n",
    "        return x\n",
    "\n",
    "model = AccidentSeverityModel()\n",
    "criterion = nn.CrossEntropyLoss()\n",
    "optimizer = optim.Adam(model.parameters(), lr=0.001)\n",
    "\n",
    "print(\"Training the model...\")\n",
    "num_epochs = 5\n",
    "for epoch in range(num_epochs):\n",
    "    model.train()\n",
    "    total_loss = 0\n",
    "    for batch in train_loader:\n",
    "        inputs, targets = batch\n",
    "        optimizer.zero_grad()\n",
    "        outputs = model(inputs)\n",
    "        loss = criterion(outputs, targets)\n",
    "        loss.backward()\n",
    "        optimizer.step()\n",
    "        total_loss += loss.item()\n",
    "    print(f\"Epoch {epoch+1}/{num_epochs}, Loss: {total_loss/len(train_loader):.4f}\")\n",
    "\n",
    "print(\"Evaluating the model...\")\n",
    "model.eval()\n",
    "all_preds = []\n",
    "all_targets = []\n",
    "with torch.no_grad():\n",
    "    for batch in test_loader:\n",
    "        inputs, targets = batch\n",
    "        outputs = model(inputs)\n",
    "        _, preds = torch.max(outputs, 1)\n",
    "        all_preds.extend(preds.numpy())\n",
    "        all_targets.extend(targets.numpy())\n",
    "\n",
    "print(\"Accuracy:\", accuracy_score(all_targets, all_preds))\n",
    "print(\"Classification Report:\")\n",
    "print(classification_report(all_targets, all_preds))\n"
   ]
  },
  {
   "cell_type": "code",
   "execution_count": 18,
   "metadata": {},
   "outputs": [
    {
     "name": "stdout",
     "output_type": "stream",
     "text": [
      "Loading Traffic Flow dataset...\n",
      "Traffic Flow dataset loaded.\n",
      "Integrating traffic flow data...\n",
      "Retraining the model with integrated data...\n",
      "Epoch 1/2, Loss: 0.5564\n",
      "Epoch 2/2, Loss: 0.5435\n",
      "Evaluating the integrated model...\n",
      "Integrated Model Accuracy: 0.7967883370350506\n",
      "Classification Report:\n"
     ]
    },
    {
     "name": "stderr",
     "output_type": "stream",
     "text": [
      "/Users/daehwanyoo/.pyenv/versions/3.10.13/lib/python3.10/site-packages/sklearn/metrics/_classification.py:1565: UndefinedMetricWarning: Precision is ill-defined and being set to 0.0 in labels with no predicted samples. Use `zero_division` parameter to control this behavior.\n",
      "  _warn_prf(average, modifier, f\"{metric.capitalize()} is\", len(result))\n"
     ]
    },
    {
     "name": "stdout",
     "output_type": "stream",
     "text": [
      "              precision    recall  f1-score   support\n",
      "\n",
      "           0       0.00      0.00      0.00     13358\n",
      "           1       0.80      1.00      0.89   1231371\n",
      "           2       0.65      0.00      0.00    259940\n",
      "           3       0.00      0.00      0.00     41010\n",
      "\n",
      "    accuracy                           0.80   1545679\n",
      "   macro avg       0.36      0.25      0.22   1545679\n",
      "weighted avg       0.74      0.80      0.71   1545679\n",
      "\n",
      "Analysis complete.\n"
     ]
    },
    {
     "name": "stderr",
     "output_type": "stream",
     "text": [
      "/Users/daehwanyoo/.pyenv/versions/3.10.13/lib/python3.10/site-packages/sklearn/metrics/_classification.py:1565: UndefinedMetricWarning: Precision is ill-defined and being set to 0.0 in labels with no predicted samples. Use `zero_division` parameter to control this behavior.\n",
      "  _warn_prf(average, modifier, f\"{metric.capitalize()} is\", len(result))\n",
      "/Users/daehwanyoo/.pyenv/versions/3.10.13/lib/python3.10/site-packages/sklearn/metrics/_classification.py:1565: UndefinedMetricWarning: Precision is ill-defined and being set to 0.0 in labels with no predicted samples. Use `zero_division` parameter to control this behavior.\n",
      "  _warn_prf(average, modifier, f\"{metric.capitalize()} is\", len(result))\n"
     ]
    }
   ],
   "source": [
    "print(\"Loading Traffic Flow dataset...\")\n",
    "traffic_flow_data = loadmat('/data/traffic_dataset.mat')\n",
    "print(\"Traffic Flow dataset loaded.\")\n",
    "\n",
    "print(\"Integrating traffic flow data...\")\n",
    "traffic_X_te = traffic_flow_data['tra_X_te'][0]\n",
    "traffic_features = np.mean([x.mean(axis=1) for x in traffic_X_te], axis=0)\n",
    "us_accidents['Traffic_Feature'] = np.random.choice(traffic_features.flatten(), size=us_accidents.shape[0], replace=True)\n",
    "X = us_accidents[['Start_Lat', 'Start_Lng', 'Distance(mi)', 'Traffic_Feature']].values\n",
    "y = us_accidents['Severity'].values -1\n",
    "\n",
    "X_tensor = torch.tensor(X, dtype=torch.float32)\n",
    "y_tensor = torch.tensor(y, dtype=torch.long)\n",
    "\n",
    "train_size = int(0.8 * len(X_tensor))\n",
    "test_size = len(X_tensor) - train_size\n",
    "train_dataset, test_dataset = torch.utils.data.random_split(list(zip(X_tensor, y_tensor)), [train_size, test_size])\n",
    "train_loader = DataLoader(train_dataset, batch_size=32, shuffle=True)\n",
    "test_loader = DataLoader(test_dataset, batch_size=32, shuffle=False)\n",
    "\n",
    "model = AccidentSeverityModel()\n",
    "optimizer = optim.Adam(model.parameters(), lr=0.001)\n",
    "\n",
    "print(\"Retraining the model with integrated data...\")\n",
    "for epoch in range(num_epochs):\n",
    "    model.train()\n",
    "    total_loss = 0\n",
    "    for batch in train_loader:\n",
    "        inputs, targets = batch\n",
    "        optimizer.zero_grad()\n",
    "        outputs = model(inputs)\n",
    "        loss = criterion(outputs, targets)\n",
    "        loss.backward()\n",
    "        optimizer.step()\n",
    "        total_loss += loss.item()\n",
    "    print(f\"Epoch {epoch+1}/{num_epochs}, Loss: {total_loss/len(train_loader):.4f}\")\n",
    "\n",
    "print(\"Evaluating the integrated model...\")\n",
    "model.eval()\n",
    "all_preds = []\n",
    "all_targets = []\n",
    "with torch.no_grad():\n",
    "    for batch in test_loader:\n",
    "        inputs, targets = batch\n",
    "        outputs = model(inputs)\n",
    "        _, preds = torch.max(outputs, 1)\n",
    "        all_preds.extend(preds.numpy())\n",
    "        all_targets.extend(targets.numpy())\n",
    "\n",
    "print(\"Integrated Model Accuracy:\", accuracy_score(all_targets, all_preds))\n",
    "print(\"Classification Report:\")\n",
    "print(classification_report(all_targets, all_preds))\n",
    "\n",
    "print(\"Analysis complete.\")\n"
   ]
  }
 ],
 "metadata": {
  "kernelspec": {
   "display_name": "3.10.13",
   "language": "python",
   "name": "python3"
  },
  "language_info": {
   "codemirror_mode": {
    "name": "ipython",
    "version": 3
   },
   "file_extension": ".py",
   "mimetype": "text/x-python",
   "name": "python",
   "nbconvert_exporter": "python",
   "pygments_lexer": "ipython3",
   "version": "3.12.1"
  }
 },
 "nbformat": 4,
 "nbformat_minor": 2
}
