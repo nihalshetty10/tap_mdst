{
 "cells": [
  {
   "cell_type": "markdown",
   "metadata": {},
   "source": [
    "## Exploratory Data Analysis\n",
    "#### First step in any data science or machine learning project\n",
    "\n",
    "make sure you have a folder named \"data\" in your project folder and the data folder is in the same folder as this     \n",
    "make sure you are in your virtural environment    \n",
    "\n",
    "python3 -m venv venv  \n",
    "source venv/bin/activate   # macOS/Linux  \n",
    "venv\\Scripts\\activate    # Windows  "
   ]
  },
  {
   "cell_type": "code",
   "execution_count": 1,
   "metadata": {},
   "outputs": [],
   "source": [
    "import pandas as pd\n",
    "import numpy as np\n",
    "import matplotlib.pyplot as plt"
   ]
  },
  {
   "cell_type": "code",
   "execution_count": 4,
   "metadata": {},
   "outputs": [
    {
     "name": "stdout",
     "output_type": "stream",
     "text": [
      "Loading US Accidents dataset...\n",
      "Sample size: 7728394\n"
     ]
    }
   ],
   "source": [
    "# Read in data\n",
    "print(\"Loading US Accidents dataset...\")\n",
    "file_path = './US_Accidents_March23.csv'\n",
    "us_accidents = pd.read_csv(file_path)\n",
    "print(f\"Sample size: {len(us_accidents)}\")"
   ]
  },
  {
   "cell_type": "code",
   "execution_count": 5,
   "metadata": {},
   "outputs": [
    {
     "name": "stdout",
     "output_type": "stream",
     "text": [
      "(7728394, 46)\n",
      "<class 'pandas.core.frame.DataFrame'>\n",
      "RangeIndex: 7728394 entries, 0 to 7728393\n",
      "Data columns (total 46 columns):\n",
      " #   Column                 Dtype  \n",
      "---  ------                 -----  \n",
      " 0   ID                     object \n",
      " 1   Source                 object \n",
      " 2   Severity               int64  \n",
      " 3   Start_Time             object \n",
      " 4   End_Time               object \n",
      " 5   Start_Lat              float64\n",
      " 6   Start_Lng              float64\n",
      " 7   End_Lat                float64\n",
      " 8   End_Lng                float64\n",
      " 9   Distance(mi)           float64\n",
      " 10  Description            object \n",
      " 11  Street                 object \n",
      " 12  City                   object \n",
      " 13  County                 object \n",
      " 14  State                  object \n",
      " 15  Zipcode                object \n",
      " 16  Country                object \n",
      " 17  Timezone               object \n",
      " 18  Airport_Code           object \n",
      " 19  Weather_Timestamp      object \n",
      " 20  Temperature(F)         float64\n",
      " 21  Wind_Chill(F)          float64\n",
      " 22  Humidity(%)            float64\n",
      " 23  Pressure(in)           float64\n",
      " 24  Visibility(mi)         float64\n",
      " 25  Wind_Direction         object \n",
      " 26  Wind_Speed(mph)        float64\n",
      " 27  Precipitation(in)      float64\n",
      " 28  Weather_Condition      object \n",
      " 29  Amenity                bool   \n",
      " 30  Bump                   bool   \n",
      " 31  Crossing               bool   \n",
      " 32  Give_Way               bool   \n",
      " 33  Junction               bool   \n",
      " 34  No_Exit                bool   \n",
      " 35  Railway                bool   \n",
      " 36  Roundabout             bool   \n",
      " 37  Station                bool   \n",
      " 38  Stop                   bool   \n",
      " 39  Traffic_Calming        bool   \n",
      " 40  Traffic_Signal         bool   \n",
      " 41  Turning_Loop           bool   \n",
      " 42  Sunrise_Sunset         object \n",
      " 43  Civil_Twilight         object \n",
      " 44  Nautical_Twilight      object \n",
      " 45  Astronomical_Twilight  object \n",
      "dtypes: bool(13), float64(12), int64(1), object(20)\n",
      "memory usage: 2.0+ GB\n",
      "None\n",
      "    ID   Source  Severity           Start_Time             End_Time  \\\n",
      "0  A-1  Source2         3  2016-02-08 05:46:00  2016-02-08 11:00:00   \n",
      "1  A-2  Source2         2  2016-02-08 06:07:59  2016-02-08 06:37:59   \n",
      "2  A-3  Source2         2  2016-02-08 06:49:27  2016-02-08 07:19:27   \n",
      "3  A-4  Source2         3  2016-02-08 07:23:34  2016-02-08 07:53:34   \n",
      "4  A-5  Source2         2  2016-02-08 07:39:07  2016-02-08 08:09:07   \n",
      "\n",
      "   Start_Lat  Start_Lng  End_Lat  End_Lng  Distance(mi)  ... Roundabout  \\\n",
      "0  39.865147 -84.058723      NaN      NaN          0.01  ...      False   \n",
      "1  39.928059 -82.831184      NaN      NaN          0.01  ...      False   \n",
      "2  39.063148 -84.032608      NaN      NaN          0.01  ...      False   \n",
      "3  39.747753 -84.205582      NaN      NaN          0.01  ...      False   \n",
      "4  39.627781 -84.188354      NaN      NaN          0.01  ...      False   \n",
      "\n",
      "  Station   Stop Traffic_Calming Traffic_Signal Turning_Loop Sunrise_Sunset  \\\n",
      "0   False  False           False          False        False          Night   \n",
      "1   False  False           False          False        False          Night   \n",
      "2   False  False           False           True        False          Night   \n",
      "3   False  False           False          False        False          Night   \n",
      "4   False  False           False           True        False            Day   \n",
      "\n",
      "  Civil_Twilight Nautical_Twilight Astronomical_Twilight  \n",
      "0          Night             Night                 Night  \n",
      "1          Night             Night                   Day  \n",
      "2          Night               Day                   Day  \n",
      "3            Day               Day                   Day  \n",
      "4            Day               Day                   Day  \n",
      "\n",
      "[5 rows x 46 columns]\n",
      "ID                             0\n",
      "Source                         0\n",
      "Severity                       0\n",
      "Start_Time                     0\n",
      "End_Time                       0\n",
      "Start_Lat                      0\n",
      "Start_Lng                      0\n",
      "End_Lat                  3402762\n",
      "End_Lng                  3402762\n",
      "Distance(mi)                   0\n",
      "Description                    5\n",
      "Street                     10869\n",
      "City                         253\n",
      "County                         0\n",
      "State                          0\n",
      "Zipcode                     1915\n",
      "Country                        0\n",
      "Timezone                    7808\n",
      "Airport_Code               22635\n",
      "Weather_Timestamp         120228\n",
      "Temperature(F)            163853\n",
      "Wind_Chill(F)            1999019\n",
      "Humidity(%)               174144\n",
      "Pressure(in)              140679\n",
      "Visibility(mi)            177098\n",
      "Wind_Direction            175206\n",
      "Wind_Speed(mph)           571233\n",
      "Precipitation(in)        2203586\n",
      "Weather_Condition         173459\n",
      "Amenity                        0\n",
      "Bump                           0\n",
      "Crossing                       0\n",
      "Give_Way                       0\n",
      "Junction                       0\n",
      "No_Exit                        0\n",
      "Railway                        0\n",
      "Roundabout                     0\n",
      "Station                        0\n",
      "Stop                           0\n",
      "Traffic_Calming                0\n",
      "Traffic_Signal                 0\n",
      "Turning_Loop                   0\n",
      "Sunrise_Sunset             23246\n",
      "Civil_Twilight             23246\n",
      "Nautical_Twilight          23246\n",
      "Astronomical_Twilight      23246\n",
      "dtype: int64\n"
     ]
    }
   ],
   "source": [
    "# Check dataset size\n",
    "print(us_accidents.shape)\n",
    "# Get column types \n",
    "print(us_accidents.info())\n",
    "# View first few rows\n",
    "print(us_accidents.head())\n",
    "# Check for missing values\n",
    "print(us_accidents.isna().sum())"
   ]
  },
  {
   "cell_type": "code",
   "execution_count": 21,
   "metadata": {},
   "outputs": [
    {
     "name": "stdout",
     "output_type": "stream",
     "text": [
      "                ID   Source  Severity           Start_Time  \\\n",
      "7728389  A-7777757  Source1         2  2019-08-23 18:03:25   \n",
      "7728390  A-7777758  Source1         2  2019-08-23 19:11:30   \n",
      "7728391  A-7777759  Source1         2  2019-08-23 19:00:21   \n",
      "7728392  A-7777760  Source1         2  2019-08-23 19:00:21   \n",
      "7728393  A-7777761  Source1         2  2019-08-23 18:52:06   \n",
      "\n",
      "                    End_Time  Start_Lat  Start_Lng   End_Lat    End_Lng  \\\n",
      "7728389  2019-08-23 18:32:01   34.00248 -117.37936  33.99888 -117.37094   \n",
      "7728390  2019-08-23 19:38:23   32.76696 -117.14806  32.76555 -117.15363   \n",
      "7728391  2019-08-23 19:28:49   33.77545 -117.84779  33.77740 -117.85727   \n",
      "7728392  2019-08-23 19:29:42   33.99246 -118.40302  33.98311 -118.39565   \n",
      "7728393  2019-08-23 19:21:31   34.13393 -117.23092  34.13736 -117.23934   \n",
      "\n",
      "         Distance(mi)  ... Roundabout Station   Stop Traffic_Calming  \\\n",
      "7728389         0.543  ...      False   False  False           False   \n",
      "7728390         0.338  ...      False   False  False           False   \n",
      "7728391         0.561  ...      False   False  False           False   \n",
      "7728392         0.772  ...      False   False  False           False   \n",
      "7728393         0.537  ...      False   False  False           False   \n",
      "\n",
      "        Traffic_Signal Turning_Loop Sunrise_Sunset Civil_Twilight  \\\n",
      "7728389          False        False            Day            Day   \n",
      "7728390          False        False            Day            Day   \n",
      "7728391          False        False            Day            Day   \n",
      "7728392          False        False            Day            Day   \n",
      "7728393          False        False            Day            Day   \n",
      "\n",
      "        Nautical_Twilight Astronomical_Twilight  \n",
      "7728389               Day                   Day  \n",
      "7728390               Day                   Day  \n",
      "7728391               Day                   Day  \n",
      "7728392               Day                   Day  \n",
      "7728393               Day                   Day  \n",
      "\n",
      "[5 rows x 46 columns]\n",
      "0.5618422831523752\n",
      "145\n",
      "162191\n"
     ]
    }
   ],
   "source": [
    "# Group Pratices\n",
    "# TODO: 1. Find the last 5 rows\n",
    "print(us_accidents.tail(5))\n",
    "\n",
    "# TODO: 2. Find the mean value of \"Distance(mi)\"\n",
    "print(us_accidents['Distance(mi)'].mean())\n",
    "# TODO: 3. Find the number of unique values in \"Weather_Condition\"\n",
    "print(len(us_accidents['Weather_Condition'].unique()))\n",
    "\n",
    "# TODO: 4. Find total number of accidents in MI\n",
    "print(len(us_accidents[us_accidents[\"State\"]==\"MI\"]))\n",
    "\n",
    "# TODO: 5. Choose one column that interests you, find some patterns/interesting facts, and share"
   ]
  },
  {
   "cell_type": "markdown",
   "metadata": {},
   "source": [
    "## Basic Data Sampling\n",
    "#### Sampling allows us to work with a smaller, representative subset while preserving key distributions\n",
    "\n",
    "Look into this link for more data sampling techniques  \n",
    "https://www.qualtrics.com/experience-management/research/sampling-methods/"
   ]
  },
  {
   "cell_type": "code",
   "execution_count": 30,
   "metadata": {},
   "outputs": [
    {
     "name": "stdout",
     "output_type": "stream",
     "text": [
      "Severity\n",
      "2    0.79716\n",
      "3    0.16836\n",
      "4    0.02598\n",
      "1    0.00850\n",
      "Name: proportion, dtype: float64\n"
     ]
    }
   ],
   "source": [
    "# Sampling Goal: Extract a representative sample of 50,000 rows while maintaining the distribution of Severity.\n",
    "# Use simple random sampling with pandas.sample()\n",
    "us_accidents_sample = us_accidents.sample(n=50000, random_state=42) # random_state=42 ensures sample remains the same every time.\n",
    "print(us_accidents_sample[\"Severity\"].value_counts(normalize=True))\n"
   ]
  },
  {
   "cell_type": "code",
   "execution_count": 24,
   "metadata": {},
   "outputs": [
    {
     "data": {
      "text/plain": [
       "Severity\n",
       "2    0.796670\n",
       "3    0.168125\n",
       "4    0.026488\n",
       "1    0.008717\n",
       "Name: proportion, dtype: float64"
      ]
     },
     "execution_count": 24,
     "metadata": {},
     "output_type": "execute_result"
    }
   ],
   "source": [
    "# TODO: Find the distribution of Severity of us_accidents\n",
    "us_accidents[\"Severity\"].value_counts(normalize=True)\n",
    "# Is the distribution of Severity of us_accidents_sample similar to that of us_accidents?\n",
    "# Almost identitical"
   ]
  },
  {
   "cell_type": "code",
   "execution_count": 28,
   "metadata": {},
   "outputs": [
    {
     "name": "stdout",
     "output_type": "stream",
     "text": [
      "Severity\n",
      "2    0.79395\n",
      "3    0.16885\n",
      "4    0.02865\n",
      "1    0.00855\n",
      "Name: proportion, dtype: float64\n"
     ]
    }
   ],
   "source": [
    "# Random sampling may not preserve class proportions.\n",
    "# TODO: Try stratified sampling to preserve class proportions with sklearn \n",
    "from sklearn.model_selection import train_test_split\n",
    "us_accidents_sample, _ = train_test_split(us_accidents, train_size=20000, random_state=40)\n",
    "print(us_accidents_sample[\"Severity\"].value_counts(normalize=True))\n",
    "# and compare the distribution with the original dataset"
   ]
  },
  {
   "cell_type": "code",
   "execution_count": null,
   "metadata": {},
   "outputs": [],
   "source": [
    "# More practices: try other sampling methods on distribution of other features"
   ]
  },
  {
   "cell_type": "markdown",
   "metadata": {},
   "source": [
    "## Data Cleaning & Preprocessing\n",
    "#### Fixing or removing incorrect, corrupted, incorrectly formatted, duplicate, or incomplete data within a dataset\n",
    "Ways to handle missing values: https://www.analyticsvidhya.com/blog/2021/10/handling-missing-value/#h-list-of-methods-to-handle-missing-values-in-a-dataset  \n",
    "Handling missing values and outliers: https://medium.com/gen-ai-adventures/handling-missing-values-and-outliers-in-data-analysis-c1ffc2dd5051  \n",
    "Normalization methods: https://medium.com/@mkc940/different-normalization-methods-a1be71fe9f1  \n"
   ]
  },
  {
   "cell_type": "code",
   "execution_count": 32,
   "metadata": {},
   "outputs": [
    {
     "name": "stdout",
     "output_type": "stream",
     "text": [
      "Precipitation(in)        14375\n",
      "Wind_Chill(F)            13024\n",
      "Wind_Speed(mph)           3811\n",
      "Wind_Direction            1163\n",
      "Visibility(mi)            1136\n",
      "Humidity(%)               1126\n",
      "Weather_Condition         1108\n",
      "Temperature(F)            1061\n",
      "Pressure(in)               905\n",
      "Weather_Timestamp          795\n",
      "Nautical_Twilight          165\n",
      "Civil_Twilight             165\n",
      "Sunrise_Sunset             165\n",
      "Astronomical_Twilight      165\n",
      "Airport_Code               148\n",
      "Street                      83\n",
      "Timezone                    49\n",
      "Zipcode                     10\n",
      "Traffic_Calming              0\n",
      "No_Exit                      0\n",
      "Railway                      0\n",
      "Roundabout                   0\n",
      "Station                      0\n",
      "Stop                         0\n",
      "Turning_Loop                 0\n",
      "Traffic_Signal               0\n",
      "Give_Way                     0\n",
      "Start_Lat                    0\n",
      "End_Time                     0\n",
      "Start_Time                   0\n",
      "Junction                     0\n",
      "Bump                         0\n",
      "Crossing                     0\n",
      "Country                      0\n",
      "Amenity                      0\n",
      "Start_Lng                    0\n",
      "End_Lat                      0\n",
      "End_Lng                      0\n",
      "Distance(mi)                 0\n",
      "Description                  0\n",
      "Severity                     0\n",
      "City                         0\n",
      "County                       0\n",
      "State                        0\n",
      "Source                       0\n",
      "dtype: int64\n"
     ]
    }
   ],
   "source": [
    "# Number of null values for each column in descending order\n",
    "print(us_accidents_sample.isna().sum().sort_values(ascending=False))"
   ]
  },
  {
   "cell_type": "code",
   "execution_count": 31,
   "metadata": {},
   "outputs": [
    {
     "name": "stderr",
     "output_type": "stream",
     "text": [
      "/var/folders/5y/wcgww58j65v99lffgqfdyl600000gn/T/ipykernel_10486/2923881683.py:2: FutureWarning: A value is trying to be set on a copy of a DataFrame or Series through chained assignment using an inplace method.\n",
      "The behavior will change in pandas 3.0. This inplace method will never work because the intermediate object on which we are setting values always behaves as a copy.\n",
      "\n",
      "For example, when doing 'df[col].method(value, inplace=True)', try using 'df.method({col: value}, inplace=True)' or df[col] = df[col].method(value) instead, to perform the operation inplace on the original object.\n",
      "\n",
      "\n",
      "  us_accidents_sample[\"End_Lat\"].fillna(us_accidents_sample[\"Start_Lat\"], inplace=True)\n",
      "/var/folders/5y/wcgww58j65v99lffgqfdyl600000gn/T/ipykernel_10486/2923881683.py:3: FutureWarning: A value is trying to be set on a copy of a DataFrame or Series through chained assignment using an inplace method.\n",
      "The behavior will change in pandas 3.0. This inplace method will never work because the intermediate object on which we are setting values always behaves as a copy.\n",
      "\n",
      "For example, when doing 'df[col].method(value, inplace=True)', try using 'df.method({col: value}, inplace=True)' or df[col] = df[col].method(value) instead, to perform the operation inplace on the original object.\n",
      "\n",
      "\n",
      "  us_accidents_sample[\"End_Lng\"].fillna(us_accidents_sample[\"Start_Lng\"], inplace=True)\n"
     ]
    }
   ],
   "source": [
    "# Fill missing End_Lat and End_Lng with Start_Lat and Start_Lng (if missing)\n",
    "us_accidents_sample[\"End_Lat\"].fillna(us_accidents_sample[\"Start_Lat\"], inplace=True)\n",
    "us_accidents_sample[\"End_Lng\"].fillna(us_accidents_sample[\"Start_Lng\"], inplace=True)\n",
    "# Drop irrelevant columns (e.g., ID if not useful for prediction).\n",
    "us_accidents_sample.drop(columns=[\"ID\"], inplace=True)"
   ]
  },
  {
   "cell_type": "code",
   "execution_count": 40,
   "metadata": {},
   "outputs": [
    {
     "name": "stderr",
     "output_type": "stream",
     "text": [
      "/var/folders/5y/wcgww58j65v99lffgqfdyl600000gn/T/ipykernel_10486/3920639547.py:2: FutureWarning: A value is trying to be set on a copy of a DataFrame or Series through chained assignment using an inplace method.\n",
      "The behavior will change in pandas 3.0. This inplace method will never work because the intermediate object on which we are setting values always behaves as a copy.\n",
      "\n",
      "For example, when doing 'df[col].method(value, inplace=True)', try using 'df.method({col: value}, inplace=True)' or df[col] = df[col].method(value) instead, to perform the operation inplace on the original object.\n",
      "\n",
      "\n",
      "  us_accidents_sample[\"Wind_Speed(mph)\"].fillna(us_accidents_sample[\"Wind_Speed(mph)\"].mean(), inplace=True)\n",
      "/var/folders/5y/wcgww58j65v99lffgqfdyl600000gn/T/ipykernel_10486/3920639547.py:3: FutureWarning: A value is trying to be set on a copy of a DataFrame or Series through chained assignment using an inplace method.\n",
      "The behavior will change in pandas 3.0. This inplace method will never work because the intermediate object on which we are setting values always behaves as a copy.\n",
      "\n",
      "For example, when doing 'df[col].method(value, inplace=True)', try using 'df.method({col: value}, inplace=True)' or df[col] = df[col].method(value) instead, to perform the operation inplace on the original object.\n",
      "\n",
      "\n",
      "  us_accidents_sample[\"Visibility(mi)\"].fillna(us_accidents_sample[\"Visibility(mi)\"].mean(), inplace=True)\n"
     ]
    }
   ],
   "source": [
    "# TODO: Fill missing values for \"Wind_Speed(mph)\" and \"Visibility(mi)\" with the mean of their respective columns\n",
    "us_accidents_sample[\"Wind_Speed(mph)\"].fillna(us_accidents_sample[\"Wind_Speed(mph)\"].mean(), inplace=True)\n",
    "us_accidents_sample[\"Visibility(mi)\"].fillna(us_accidents_sample[\"Visibility(mi)\"].mean(), inplace=True)"
   ]
  },
  {
   "cell_type": "code",
   "execution_count": 51,
   "metadata": {},
   "outputs": [
    {
     "name": "stdout",
     "output_type": "stream",
     "text": [
      "Wind_Direction           1163\n",
      "Humidity(%)              1126\n",
      "Weather_Condition        1108\n",
      "Temperature(F)           1061\n",
      "Pressure(in)              905\n",
      "Weather_Timestamp         795\n",
      "Astronomical_Twilight     165\n",
      "Nautical_Twilight         165\n",
      "Civil_Twilight            165\n",
      "Sunrise_Sunset            165\n",
      "Airport_Code              148\n",
      "Street                     83\n",
      "Timezone                   49\n",
      "Zipcode                    10\n",
      "Amenity                     0\n",
      "No_Exit                     0\n",
      "Railway                     0\n",
      "Roundabout                  0\n",
      "Station                     0\n",
      "Stop                        0\n",
      "Junction                    0\n",
      "Traffic_Calming             0\n",
      "Traffic_Signal              0\n",
      "Give_Way                    0\n",
      "Turning_Loop                0\n",
      "Crossing                    0\n",
      "Bump                        0\n",
      "Source                      0\n",
      "Visibility(mi)              0\n",
      "Precipitation(in)           0\n",
      "Distance(mi)                0\n",
      "Start_Time                  0\n",
      "End_Time                    0\n",
      "Start_Lat                   0\n",
      "Start_Lng                   0\n",
      "End_Lat                     0\n",
      "End_Lng                     0\n",
      "Description                 0\n",
      "Wind_Speed(mph)             0\n",
      "City                        0\n",
      "County                      0\n",
      "State                       0\n",
      "Country                     0\n",
      "Wind_Chill(F)               0\n",
      "Severity                    0\n",
      "Year                        0\n",
      "dtype: int64\n"
     ]
    },
    {
     "name": "stderr",
     "output_type": "stream",
     "text": [
      "/var/folders/5y/wcgww58j65v99lffgqfdyl600000gn/T/ipykernel_10486/1428630249.py:2: FutureWarning: A value is trying to be set on a copy of a DataFrame or Series through chained assignment using an inplace method.\n",
      "The behavior will change in pandas 3.0. This inplace method will never work because the intermediate object on which we are setting values always behaves as a copy.\n",
      "\n",
      "For example, when doing 'df[col].method(value, inplace=True)', try using 'df.method({col: value}, inplace=True)' or df[col] = df[col].method(value) instead, to perform the operation inplace on the original object.\n",
      "\n",
      "\n",
      "  us_accidents_sample[\"Precipitation(in)\"].fillna(us_accidents_sample[\"Precipitation(in)\"].mean(), inplace=True)\n",
      "/var/folders/5y/wcgww58j65v99lffgqfdyl600000gn/T/ipykernel_10486/1428630249.py:3: FutureWarning: A value is trying to be set on a copy of a DataFrame or Series through chained assignment using an inplace method.\n",
      "The behavior will change in pandas 3.0. This inplace method will never work because the intermediate object on which we are setting values always behaves as a copy.\n",
      "\n",
      "For example, when doing 'df[col].method(value, inplace=True)', try using 'df.method({col: value}, inplace=True)' or df[col] = df[col].method(value) instead, to perform the operation inplace on the original object.\n",
      "\n",
      "\n",
      "  us_accidents_sample[\"Wind_Chill(F)\"].fillna(us_accidents_sample[\"Wind_Chill(F)\"].mean(), inplace=True)\n",
      "/var/folders/5y/wcgww58j65v99lffgqfdyl600000gn/T/ipykernel_10486/1428630249.py:5: FutureWarning: A value is trying to be set on a copy of a DataFrame or Series through chained assignment using an inplace method.\n",
      "The behavior will change in pandas 3.0. This inplace method will never work because the intermediate object on which we are setting values always behaves as a copy.\n",
      "\n",
      "For example, when doing 'df[col].method(value, inplace=True)', try using 'df.method({col: value}, inplace=True)' or df[col] = df[col].method(value) instead, to perform the operation inplace on the original object.\n",
      "\n",
      "\n",
      "  us_accidents_sample[\"Humidity(%)\"].fillna(us_accidents_sample[\"Humidity(%)\"].mean(), inplace=True)\n"
     ]
    }
   ],
   "source": [
    "print(us_accidents_sample.isna().sum().sort_values(ascending=False))\n",
    "us_accidents_sample[\"Precipitation(in)\"].fillna(us_accidents_sample[\"Precipitation(in)\"].mean(), inplace=True)\n",
    "us_accidents_sample[\"Wind_Chill(F)\"].fillna(us_accidents_sample[\"Wind_Chill(F)\"].mean(), inplace=True)\n",
    "#us_accidents_sample[\"Wind_Direction\"].fillna(us_accidents_sample[\"Wind_Direction\"].mean(), inplace=True)\n",
    "us_accidents_sample[\"Humidity(%)\"].fillna(us_accidents_sample[\"Humidity(%)\"].mean(), inplace=True)"
   ]
  },
  {
   "cell_type": "code",
   "execution_count": 41,
   "metadata": {},
   "outputs": [
    {
     "name": "stdout",
     "output_type": "stream",
     "text": [
      "Precipitation(in)        14375\n",
      "Wind_Chill(F)            13024\n",
      "Wind_Direction            1163\n",
      "Humidity(%)               1126\n",
      "Weather_Condition         1108\n",
      "Temperature(F)            1061\n",
      "Pressure(in)               905\n",
      "Weather_Timestamp          795\n",
      "Nautical_Twilight          165\n",
      "Civil_Twilight             165\n",
      "Sunrise_Sunset             165\n",
      "Astronomical_Twilight      165\n",
      "Airport_Code               148\n",
      "Street                      83\n",
      "Timezone                    49\n",
      "Zipcode                     10\n",
      "County                       0\n",
      "Traffic_Calming              0\n",
      "No_Exit                      0\n",
      "Railway                      0\n",
      "Roundabout                   0\n",
      "Station                      0\n",
      "Stop                         0\n",
      "Turning_Loop                 0\n",
      "Traffic_Signal               0\n",
      "Give_Way                     0\n",
      "Start_Lat                    0\n",
      "End_Time                     0\n",
      "Start_Time                   0\n",
      "Junction                     0\n",
      "Amenity                      0\n",
      "Crossing                     0\n",
      "Bump                         0\n",
      "State                        0\n",
      "Start_Lng                    0\n",
      "End_Lat                      0\n",
      "Wind_Speed(mph)              0\n",
      "End_Lng                      0\n",
      "Visibility(mi)               0\n",
      "Severity                     0\n",
      "Distance(mi)                 0\n",
      "Description                  0\n",
      "City                         0\n",
      "Country                      0\n",
      "Source                       0\n",
      "dtype: int64\n"
     ]
    }
   ],
   "source": [
    "\n",
    "# TODO: Process all columns with missing values with appropriate methods (e.g., mean, median, mode, or drop etc.)\n",
    "print(us_accidents_sample.isna().sum().sort_values(ascending=False))"
   ]
  },
  {
   "cell_type": "code",
   "execution_count": null,
   "metadata": {},
   "outputs": [],
   "source": [
    "# TODO Challenge: Apply KNN imputation for missing values of \"Start_Lat\" and \"Start_Lng\"\n",
    "from sklearn.impute import KNNImputer"
   ]
  },
  {
   "cell_type": "markdown",
   "metadata": {},
   "source": [
    "## Data Preprocessing\n",
    "#### Preparing and cleaning the dataset to make it more suitable for machine learning algorithms\n"
   ]
  },
  {
   "cell_type": "code",
   "execution_count": 47,
   "metadata": {},
   "outputs": [
    {
     "name": "stdout",
     "output_type": "stream",
     "text": [
      "['Day' 'Night' nan]\n"
     ]
    }
   ],
   "source": [
    "# Perform one-hot encoding on categorical column - \"Sunrise_Sunset\"\n",
    "print(us_accidents_sample[\"Sunrise_Sunset\"].unique())"
   ]
  },
  {
   "cell_type": "code",
   "execution_count": 48,
   "metadata": {},
   "outputs": [
    {
     "name": "stdout",
     "output_type": "stream",
     "text": [
      "[ 0.  1. nan]\n"
     ]
    }
   ],
   "source": [
    "us_accidents_sample[\"Sunrise_Sunset\"] = us_accidents_sample[\"Sunrise_Sunset\"].map({\"Day\": 0, \"Night\": 1})\n",
    "print(us_accidents_sample[\"Sunrise_Sunset\"].unique())"
   ]
  },
  {
   "cell_type": "code",
   "execution_count": 66,
   "metadata": {},
   "outputs": [
    {
     "name": "stdout",
     "output_type": "stream",
     "text": [
      "[ 0.  1.  2.  3. nan]\n",
      "[nan]\n"
     ]
    }
   ],
   "source": [
    "# TODO: Choose another categorical column and apply encoding\n",
    "print(us_accidents_sample[\"Timezone\"].unique())\n",
    "us_accidents_sample[\"Timezone\"] = us_accidents_sample[\"Timezone\"].map({\"US/Eastern\": 0, \"US/Pacific\": 1, \"US/Mountain\": 2, \"US/Central\": 3})\n",
    "print(us_accidents_sample[\"Timezone\"].unique())"
   ]
  },
  {
   "cell_type": "code",
   "execution_count": 49,
   "metadata": {},
   "outputs": [
    {
     "name": "stdout",
     "output_type": "stream",
     "text": [
      "<class 'pandas.core.frame.DataFrame'>\n",
      "Index: 50000 entries, 7133276 to 3460073\n",
      "Data columns (total 46 columns):\n",
      " #   Column                 Non-Null Count  Dtype         \n",
      "---  ------                 --------------  -----         \n",
      " 0   Source                 50000 non-null  object        \n",
      " 1   Severity               50000 non-null  int64         \n",
      " 2   Start_Time             50000 non-null  datetime64[ns]\n",
      " 3   End_Time               50000 non-null  object        \n",
      " 4   Start_Lat              50000 non-null  float64       \n",
      " 5   Start_Lng              50000 non-null  float64       \n",
      " 6   End_Lat                50000 non-null  float64       \n",
      " 7   End_Lng                50000 non-null  float64       \n",
      " 8   Distance(mi)           50000 non-null  float64       \n",
      " 9   Description            50000 non-null  object        \n",
      " 10  Street                 49917 non-null  object        \n",
      " 11  City                   50000 non-null  object        \n",
      " 12  County                 50000 non-null  object        \n",
      " 13  State                  50000 non-null  object        \n",
      " 14  Zipcode                49990 non-null  object        \n",
      " 15  Country                50000 non-null  object        \n",
      " 16  Timezone               49951 non-null  object        \n",
      " 17  Airport_Code           49852 non-null  object        \n",
      " 18  Weather_Timestamp      49205 non-null  object        \n",
      " 19  Temperature(F)         48939 non-null  float64       \n",
      " 20  Wind_Chill(F)          50000 non-null  float64       \n",
      " 21  Humidity(%)            48874 non-null  float64       \n",
      " 22  Pressure(in)           49095 non-null  float64       \n",
      " 23  Visibility(mi)         50000 non-null  float64       \n",
      " 24  Wind_Direction         48837 non-null  object        \n",
      " 25  Wind_Speed(mph)        50000 non-null  float64       \n",
      " 26  Precipitation(in)      50000 non-null  float64       \n",
      " 27  Weather_Condition      48892 non-null  object        \n",
      " 28  Amenity                50000 non-null  bool          \n",
      " 29  Bump                   50000 non-null  bool          \n",
      " 30  Crossing               50000 non-null  bool          \n",
      " 31  Give_Way               50000 non-null  bool          \n",
      " 32  Junction               50000 non-null  bool          \n",
      " 33  No_Exit                50000 non-null  bool          \n",
      " 34  Railway                50000 non-null  bool          \n",
      " 35  Roundabout             50000 non-null  bool          \n",
      " 36  Station                50000 non-null  bool          \n",
      " 37  Stop                   50000 non-null  bool          \n",
      " 38  Traffic_Calming        50000 non-null  bool          \n",
      " 39  Traffic_Signal         50000 non-null  bool          \n",
      " 40  Turning_Loop           50000 non-null  bool          \n",
      " 41  Sunrise_Sunset         49835 non-null  float64       \n",
      " 42  Civil_Twilight         49835 non-null  object        \n",
      " 43  Nautical_Twilight      49835 non-null  object        \n",
      " 44  Astronomical_Twilight  49835 non-null  object        \n",
      " 45  Year                   50000 non-null  int32         \n",
      "dtypes: bool(13), datetime64[ns](1), float64(13), int32(1), int64(1), object(17)\n",
      "memory usage: 13.4+ MB\n"
     ]
    }
   ],
   "source": [
    "# Convert 'Start_Time' to datetime and extract the year\n",
    "us_accidents_sample['Start_Time'] = us_accidents_sample['Start_Time'].str.split('.').str[0]\n",
    "us_accidents_sample['Start_Time'] = pd.to_datetime(us_accidents['Start_Time'].str.split('.').str[0], errors='coerce')\n",
    "us_accidents_sample['Year'] = us_accidents_sample['Start_Time'].dt.year\n",
    "us_accidents_sample.info()"
   ]
  },
  {
   "cell_type": "code",
   "execution_count": 50,
   "metadata": {},
   "outputs": [
    {
     "data": {
      "image/png": "[encoded data removed]",
      "text/plain": [
       "<Figure size 1000x600 with 1 Axes>"
      ]
     },
     "metadata": {},
     "output_type": "display_data"
    }
   ],
   "source": [
    "# Simple plot of accidents by year\n",
    "plt.figure(figsize=(10, 6))\n",
    "us_accidents_sample['Year'].value_counts().sort_index().plot(kind='bar')\n",
    "plt.title('Accidents by Year')\n",
    "plt.xlabel('Year')\n",
    "plt.ylabel('Number of Accidents')\n",
    "plt.show()"
   ]
  },
  {
   "cell_type": "code",
   "execution_count": null,
   "metadata": {},
   "outputs": [],
   "source": [
    "# Does your plot show any interesting patterns or trends?\n",
    "# Does your sampled data show similar patterns/trends as the original dataset?"
   ]
  },
  {
   "cell_type": "code",
   "execution_count": 68,
   "metadata": {},
   "outputs": [
    {
     "ename": "ValueError",
     "evalue": "unconverted data remains when parsing with format \"%Y-%m-%d %H:%M:%S\": \".000000000\", at position 1. You might want to try:\n    - passing `format` if your strings have a consistent format;\n    - passing `format='ISO8601'` if your strings are all ISO8601 but not necessarily in exactly the same format;\n    - passing `format='mixed'`, and the format will be inferred for each element individually. You might want to use `dayfirst` alongside this.",
     "output_type": "error",
     "traceback": [
      "\u001b[0;31m---------------------------------------------------------------------------\u001b[0m",
      "\u001b[0;31mValueError\u001b[0m                                Traceback (most recent call last)",
      "Cell \u001b[0;32mIn[68], line 5\u001b[0m\n\u001b[1;32m      3\u001b[0m us_accidents_sample[\u001b[38;5;124m'\u001b[39m\u001b[38;5;124mHour_of_Day\u001b[39m\u001b[38;5;124m'\u001b[39m] \u001b[38;5;241m=\u001b[39m us_accidents_sample[\u001b[38;5;124m'\u001b[39m\u001b[38;5;124mStart_Time\u001b[39m\u001b[38;5;124m'\u001b[39m]\u001b[38;5;241m.\u001b[39mdt\u001b[38;5;241m.\u001b[39mhour\n\u001b[1;32m      4\u001b[0m \u001b[38;5;66;03m# TODO: 2. Create new feature: duration = (End_Time - Start_Time)\u001b[39;00m\n\u001b[0;32m----> 5\u001b[0m us_accidents_sample[\u001b[38;5;124m'\u001b[39m\u001b[38;5;124mEnd_Time\u001b[39m\u001b[38;5;124m'\u001b[39m] \u001b[38;5;241m=\u001b[39m \u001b[43mpd\u001b[49m\u001b[38;5;241;43m.\u001b[39;49m\u001b[43mto_datetime\u001b[49m\u001b[43m(\u001b[49m\u001b[43mus_accidents_sample\u001b[49m\u001b[43m[\u001b[49m\u001b[38;5;124;43m'\u001b[39;49m\u001b[38;5;124;43mEnd_Time\u001b[39;49m\u001b[38;5;124;43m'\u001b[39;49m\u001b[43m]\u001b[49m\u001b[43m)\u001b[49m\n\u001b[1;32m      6\u001b[0m duration \u001b[38;5;241m=\u001b[39m us_accidents_sample[\u001b[38;5;124m'\u001b[39m\u001b[38;5;124mEnd_Time\u001b[39m\u001b[38;5;124m'\u001b[39m] \u001b[38;5;241m-\u001b[39m us_accidents_sample[\u001b[38;5;124m'\u001b[39m\u001b[38;5;124mStart_Time\u001b[39m\u001b[38;5;124m'\u001b[39m] \n",
      "File \u001b[0;32m/opt/anaconda3/envs/myenv/lib/python3.11/site-packages/pandas/core/tools/datetimes.py:1067\u001b[0m, in \u001b[0;36mto_datetime\u001b[0;34m(arg, errors, dayfirst, yearfirst, utc, format, exact, unit, infer_datetime_format, origin, cache)\u001b[0m\n\u001b[1;32m   1065\u001b[0m         result \u001b[38;5;241m=\u001b[39m arg\u001b[38;5;241m.\u001b[39mmap(cache_array)\n\u001b[1;32m   1066\u001b[0m     \u001b[38;5;28;01melse\u001b[39;00m:\n\u001b[0;32m-> 1067\u001b[0m         values \u001b[38;5;241m=\u001b[39m \u001b[43mconvert_listlike\u001b[49m\u001b[43m(\u001b[49m\u001b[43marg\u001b[49m\u001b[38;5;241;43m.\u001b[39;49m\u001b[43m_values\u001b[49m\u001b[43m,\u001b[49m\u001b[43m \u001b[49m\u001b[38;5;28;43mformat\u001b[39;49m\u001b[43m)\u001b[49m\n\u001b[1;32m   1068\u001b[0m         result \u001b[38;5;241m=\u001b[39m arg\u001b[38;5;241m.\u001b[39m_constructor(values, index\u001b[38;5;241m=\u001b[39marg\u001b[38;5;241m.\u001b[39mindex, name\u001b[38;5;241m=\u001b[39marg\u001b[38;5;241m.\u001b[39mname)\n\u001b[1;32m   1069\u001b[0m \u001b[38;5;28;01melif\u001b[39;00m \u001b[38;5;28misinstance\u001b[39m(arg, (ABCDataFrame, abc\u001b[38;5;241m.\u001b[39mMutableMapping)):\n",
      "File \u001b[0;32m/opt/anaconda3/envs/myenv/lib/python3.11/site-packages/pandas/core/tools/datetimes.py:433\u001b[0m, in \u001b[0;36m_convert_listlike_datetimes\u001b[0;34m(arg, format, name, utc, unit, errors, dayfirst, yearfirst, exact)\u001b[0m\n\u001b[1;32m    431\u001b[0m \u001b[38;5;66;03m# `format` could be inferred, or user didn't ask for mixed-format parsing.\u001b[39;00m\n\u001b[1;32m    432\u001b[0m \u001b[38;5;28;01mif\u001b[39;00m \u001b[38;5;28mformat\u001b[39m \u001b[38;5;129;01mis\u001b[39;00m \u001b[38;5;129;01mnot\u001b[39;00m \u001b[38;5;28;01mNone\u001b[39;00m \u001b[38;5;129;01mand\u001b[39;00m \u001b[38;5;28mformat\u001b[39m \u001b[38;5;241m!=\u001b[39m \u001b[38;5;124m\"\u001b[39m\u001b[38;5;124mmixed\u001b[39m\u001b[38;5;124m\"\u001b[39m:\n\u001b[0;32m--> 433\u001b[0m     \u001b[38;5;28;01mreturn\u001b[39;00m \u001b[43m_array_strptime_with_fallback\u001b[49m\u001b[43m(\u001b[49m\u001b[43marg\u001b[49m\u001b[43m,\u001b[49m\u001b[43m \u001b[49m\u001b[43mname\u001b[49m\u001b[43m,\u001b[49m\u001b[43m \u001b[49m\u001b[43mutc\u001b[49m\u001b[43m,\u001b[49m\u001b[43m \u001b[49m\u001b[38;5;28;43mformat\u001b[39;49m\u001b[43m,\u001b[49m\u001b[43m \u001b[49m\u001b[43mexact\u001b[49m\u001b[43m,\u001b[49m\u001b[43m \u001b[49m\u001b[43merrors\u001b[49m\u001b[43m)\u001b[49m\n\u001b[1;32m    435\u001b[0m result, tz_parsed \u001b[38;5;241m=\u001b[39m objects_to_datetime64(\n\u001b[1;32m    436\u001b[0m     arg,\n\u001b[1;32m    437\u001b[0m     dayfirst\u001b[38;5;241m=\u001b[39mdayfirst,\n\u001b[0;32m   (...)\u001b[0m\n\u001b[1;32m    441\u001b[0m     allow_object\u001b[38;5;241m=\u001b[39m\u001b[38;5;28;01mTrue\u001b[39;00m,\n\u001b[1;32m    442\u001b[0m )\n\u001b[1;32m    444\u001b[0m \u001b[38;5;28;01mif\u001b[39;00m tz_parsed \u001b[38;5;129;01mis\u001b[39;00m \u001b[38;5;129;01mnot\u001b[39;00m \u001b[38;5;28;01mNone\u001b[39;00m:\n\u001b[1;32m    445\u001b[0m     \u001b[38;5;66;03m# We can take a shortcut since the datetime64 numpy array\u001b[39;00m\n\u001b[1;32m    446\u001b[0m     \u001b[38;5;66;03m# is in UTC\u001b[39;00m\n",
      "File \u001b[0;32m/opt/anaconda3/envs/myenv/lib/python3.11/site-packages/pandas/core/tools/datetimes.py:467\u001b[0m, in \u001b[0;36m_array_strptime_with_fallback\u001b[0;34m(arg, name, utc, fmt, exact, errors)\u001b[0m\n\u001b[1;32m    456\u001b[0m \u001b[38;5;28;01mdef\u001b[39;00m\u001b[38;5;250m \u001b[39m\u001b[38;5;21m_array_strptime_with_fallback\u001b[39m(\n\u001b[1;32m    457\u001b[0m     arg,\n\u001b[1;32m    458\u001b[0m     name,\n\u001b[0;32m   (...)\u001b[0m\n\u001b[1;32m    462\u001b[0m     errors: \u001b[38;5;28mstr\u001b[39m,\n\u001b[1;32m    463\u001b[0m ) \u001b[38;5;241m-\u001b[39m\u001b[38;5;241m>\u001b[39m Index:\n\u001b[1;32m    464\u001b[0m \u001b[38;5;250m    \u001b[39m\u001b[38;5;124;03m\"\"\"\u001b[39;00m\n\u001b[1;32m    465\u001b[0m \u001b[38;5;124;03m    Call array_strptime, with fallback behavior depending on 'errors'.\u001b[39;00m\n\u001b[1;32m    466\u001b[0m \u001b[38;5;124;03m    \"\"\"\u001b[39;00m\n\u001b[0;32m--> 467\u001b[0m     result, tz_out \u001b[38;5;241m=\u001b[39m \u001b[43marray_strptime\u001b[49m\u001b[43m(\u001b[49m\u001b[43marg\u001b[49m\u001b[43m,\u001b[49m\u001b[43m \u001b[49m\u001b[43mfmt\u001b[49m\u001b[43m,\u001b[49m\u001b[43m \u001b[49m\u001b[43mexact\u001b[49m\u001b[38;5;241;43m=\u001b[39;49m\u001b[43mexact\u001b[49m\u001b[43m,\u001b[49m\u001b[43m \u001b[49m\u001b[43merrors\u001b[49m\u001b[38;5;241;43m=\u001b[39;49m\u001b[43merrors\u001b[49m\u001b[43m,\u001b[49m\u001b[43m \u001b[49m\u001b[43mutc\u001b[49m\u001b[38;5;241;43m=\u001b[39;49m\u001b[43mutc\u001b[49m\u001b[43m)\u001b[49m\n\u001b[1;32m    468\u001b[0m     \u001b[38;5;28;01mif\u001b[39;00m tz_out \u001b[38;5;129;01mis\u001b[39;00m \u001b[38;5;129;01mnot\u001b[39;00m \u001b[38;5;28;01mNone\u001b[39;00m:\n\u001b[1;32m    469\u001b[0m         unit \u001b[38;5;241m=\u001b[39m np\u001b[38;5;241m.\u001b[39mdatetime_data(result\u001b[38;5;241m.\u001b[39mdtype)[\u001b[38;5;241m0\u001b[39m]\n",
      "File \u001b[0;32mstrptime.pyx:501\u001b[0m, in \u001b[0;36mpandas._libs.tslibs.strptime.array_strptime\u001b[0;34m()\u001b[0m\n",
      "File \u001b[0;32mstrptime.pyx:451\u001b[0m, in \u001b[0;36mpandas._libs.tslibs.strptime.array_strptime\u001b[0;34m()\u001b[0m\n",
      "File \u001b[0;32mstrptime.pyx:587\u001b[0m, in \u001b[0;36mpandas._libs.tslibs.strptime._parse_with_format\u001b[0;34m()\u001b[0m\n",
      "\u001b[0;31mValueError\u001b[0m: unconverted data remains when parsing with format \"%Y-%m-%d %H:%M:%S\": \".000000000\", at position 1. You might want to try:\n    - passing `format` if your strings have a consistent format;\n    - passing `format='ISO8601'` if your strings are all ISO8601 but not necessarily in exactly the same format;\n    - passing `format='mixed'`, and the format will be inferred for each element individually. You might want to use `dayfirst` alongside this."
     ]
    }
   ],
   "source": [
    "# TODO: 1. Extract hour of the day from \"Start_Time\"\n",
    "us_accidents_sample['Start_Time'] = pd.to_datetime(us_accidents_sample['Start_Time'])\n",
    "us_accidents_sample['Hour_of_Day'] = us_accidents_sample['Start_Time'].dt.hour\n",
    "# TODO: 2. Create new feature: duration = (End_Time - Start_Time)\n",
    "us_accidents_sample['End_Time'] = pd.to_datetime(us_accidents_sample['End_Time'])\n",
    "duration = us_accidents_sample['End_Time'] - us_accidents_sample['Start_Time'] "
   ]
  },
  {
   "cell_type": "code",
   "execution_count": 33,
   "metadata": {},
   "outputs": [],
   "source": [
    "# TODO: 3. Try Min-Max Normalization on \"Distance(mi)\" \n",
    "from sklearn.preprocessing import MinMaxScaler\n",
    "\n",
    "# TODO: 4. Try Standardization on \"Precipitation(in)\"\n",
    "from sklearn.preprocessing import StandardScaler"
   ]
  },
  {
   "cell_type": "code",
   "execution_count": null,
   "metadata": {},
   "outputs": [],
   "source": [
    "# Save the cleaned sample to a new CSV file\n",
    "us_accidents_sample.to_csv(\"US_Accidents_Cleaned.csv\", index=False)"
   ]
  },
  {
   "cell_type": "markdown",
   "metadata": {},
   "source": [
    "DO NOT normalize/standardize categorical features!!!"
   ]
  },
  {
   "cell_type": "markdown",
   "metadata": {},
   "source": [
    "## EDA for Traffic Flow Data "
   ]
  }
 ],
 "metadata": {
  "kernelspec": {
   "display_name": "myenv",
   "language": "python",
   "name": "python3"
  },
  "language_info": {
   "codemirror_mode": {
    "name": "ipython",
    "version": 3
   },
   "file_extension": ".py",
   "mimetype": "text/x-python",
   "name": "python",
   "nbconvert_exporter": "python",
   "pygments_lexer": "ipython3",
   "version": "3.11.4"
  }
 },
 "nbformat": 4,
 "nbformat_minor": 2
}
